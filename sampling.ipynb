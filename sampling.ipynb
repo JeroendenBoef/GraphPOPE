{
 "metadata": {
  "language_info": {
   "codemirror_mode": {
    "name": "ipython",
    "version": 3
   },
   "file_extension": ".py",
   "mimetype": "text/x-python",
   "name": "python",
   "nbconvert_exporter": "python",
   "pygments_lexer": "ipython3",
   "version": "3.8.6"
  },
  "orig_nbformat": 2,
  "kernelspec": {
   "name": "python3",
   "display_name": "Python 3.8.6 64-bit ('base': conda)",
   "metadata": {
    "interpreter": {
     "hash": "98b0a9b7b4eaaa670588a142fd0a9b87eaafe866f1db4228be72b4211d12040f"
    }
   }
  }
 },
 "nbformat": 4,
 "nbformat_minor": 2,
 "cells": [
  {
   "cell_type": "code",
   "execution_count": 3,
   "metadata": {},
   "outputs": [],
   "source": [
    "import os.path as osp\n",
    "\n",
    "import torch\n",
    "\n",
    "#import torch.nn.functional as F\n",
    "from torch_geometric.datasets import Planetoid\n",
    "import torch_geometric.transforms as T\n",
    "import numpy as np\n",
    "import networkx as nx\n",
    "import multiprocessing as mp\n",
    "\n",
    "from torch_geometric.utils import to_networkx\n",
    "#from torch_geometric.nn import GCNConv, ChebConv  # noqa\n",
    "\n",
    "dataset = 'Cora'\n",
    "path = osp.join(osp.dirname(osp.realpath('Cora')), '..', 'data', dataset)\n",
    "dataset = Planetoid(path, dataset, transform=T.NormalizeFeatures())\n",
    "data = dataset[0]"
   ]
  },
  {
   "cell_type": "code",
   "execution_count": 6,
   "metadata": {},
   "outputs": [
    {
     "output_type": "stream",
     "name": "stdout",
     "text": [
      "tensor([[   0,    0,    0,  ..., 2707, 2707, 2707],\n        [ 633, 1862, 2582,  ...,  598, 1473, 2706]])\n"
     ]
    }
   ],
   "source": [
    "\n",
    "print(data.edge_index)\n",
    "G = to_networkx(data)"
   ]
  },
  {
   "cell_type": "code",
   "execution_count": 9,
   "metadata": {},
   "outputs": [
    {
     "output_type": "stream",
     "name": "stdout",
     "text": [
      "[0, 633, 1701, 24, 598, 2707]\n"
     ]
    }
   ],
   "source": [
    "print(nx.shortest_path(G, 0, 2707))"
   ]
  },
  {
   "cell_type": "code",
   "execution_count": 26,
   "metadata": {},
   "outputs": [
    {
     "output_type": "execute_result",
     "data": {
      "text/plain": [
       "array([  46, 1206, 1696, 2399,  412])"
      ]
     },
     "metadata": {},
     "execution_count": 26
    }
   ],
   "source": [
    "node_indices = np.arange(data.num_nodes)\n",
    "np.random.choice(node_indices, )"
   ]
  },
  {
   "cell_type": "code",
   "execution_count": 31,
   "metadata": {},
   "outputs": [],
   "source": [
    "def sample_anchor_nodes(data, num_anchor_nodes=32):\n",
    "    \"\"\"\n",
    "    Returns num_anchor_nodes amount of randomly sampled anchor nodes \n",
    "    \"\"\"\n",
    "    node_indices = np.arange(data.num_nodes)\n",
    "    sampled_anchor_nodes = np.random.choice(node_indices, num_anchor_nodes)\n",
    "    return sampled_anchor_nodes"
   ]
  },
  {
   "cell_type": "code",
   "execution_count": 39,
   "metadata": {},
   "outputs": [
    {
     "output_type": "execute_result",
     "data": {
      "text/plain": [
       "array([2161, 2423, 2143,   92, 1097,  991, 2362,  721,   25, 1220, 2200,\n",
       "       2310, 1561, 1810,  128,  457, 1874, 1930,  256, 1092,  183, 1391,\n",
       "       2058,  779,  968, 2188, 1199, 2288, 1201, 2034,    9,  823])"
      ]
     },
     "metadata": {},
     "execution_count": 39
    }
   ],
   "source": [
    "sample_anchor_nodes(data)"
   ]
  },
  {
   "cell_type": "code",
   "execution_count": null,
   "metadata": {},
   "outputs": [],
   "source": []
  }
 ]
}